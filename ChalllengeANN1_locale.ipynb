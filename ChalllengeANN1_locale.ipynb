{
 "cells": [
  {
   "cell_type": "code",
   "execution_count": 2,
   "metadata": {},
   "outputs": [
    {
     "ename": "ModuleNotFoundError",
     "evalue": "No module named 'matplotlib'",
     "output_type": "error",
     "traceback": [
      "\u001b[1;31m---------------------------------------------------------------------------\u001b[0m",
      "\u001b[1;31mModuleNotFoundError\u001b[0m                       Traceback (most recent call last)",
      "\u001b[1;32mc:\\Users\\User\\OneDrive\\Desktop\\RVB-AN2DL\\ChalllengeANN1_locale.ipynb Cella 1\u001b[0m in \u001b[0;36m<cell line: 4>\u001b[1;34m()\u001b[0m\n\u001b[0;32m      <a href='vscode-notebook-cell:/c%3A/Users/User/OneDrive/Desktop/RVB-AN2DL/ChalllengeANN1_locale.ipynb#W0sZmlsZQ%3D%3D?line=1'>2</a>\u001b[0m \u001b[39mimport\u001b[39;00m \u001b[39mos\u001b[39;00m\n\u001b[0;32m      <a href='vscode-notebook-cell:/c%3A/Users/User/OneDrive/Desktop/RVB-AN2DL/ChalllengeANN1_locale.ipynb#W0sZmlsZQ%3D%3D?line=2'>3</a>\u001b[0m \u001b[39mimport\u001b[39;00m \u001b[39mnumpy\u001b[39;00m \u001b[39mas\u001b[39;00m \u001b[39mnp\u001b[39;00m\n\u001b[1;32m----> <a href='vscode-notebook-cell:/c%3A/Users/User/OneDrive/Desktop/RVB-AN2DL/ChalllengeANN1_locale.ipynb#W0sZmlsZQ%3D%3D?line=3'>4</a>\u001b[0m \u001b[39mimport\u001b[39;00m \u001b[39mmatplotlib\u001b[39;00m \u001b[39mas\u001b[39;00m \u001b[39mmpl\u001b[39;00m\n\u001b[0;32m      <a href='vscode-notebook-cell:/c%3A/Users/User/OneDrive/Desktop/RVB-AN2DL/ChalllengeANN1_locale.ipynb#W0sZmlsZQ%3D%3D?line=4'>5</a>\u001b[0m \u001b[39mimport\u001b[39;00m \u001b[39mmatplotlib\u001b[39;00m\u001b[39m.\u001b[39;00m\u001b[39mpyplot\u001b[39;00m \u001b[39mas\u001b[39;00m \u001b[39mplt\u001b[39;00m\n\u001b[0;32m      <a href='vscode-notebook-cell:/c%3A/Users/User/OneDrive/Desktop/RVB-AN2DL/ChalllengeANN1_locale.ipynb#W0sZmlsZQ%3D%3D?line=5'>6</a>\u001b[0m \u001b[39mprint\u001b[39m(tf\u001b[39m.\u001b[39m__version__)\n",
      "\u001b[1;31mModuleNotFoundError\u001b[0m: No module named 'matplotlib'"
     ]
    }
   ],
   "source": [
    "import tensorflow as tf\n",
    "import os\n",
    "import numpy as np\n",
    "import matplotlib as mpl\n",
    "import matplotlib.pyplot as plt\n",
    "print(tf.__version__)\n",
    "print(tf.config.list_physical_devices())\n"
   ]
  },
  {
   "cell_type": "code",
   "execution_count": 14,
   "metadata": {},
   "outputs": [],
   "source": [
    "# Dataset folders \n",
    "dataset_dir = 'training_data_final'\n",
    "training_dir = os.path.join(dataset_dir, 'training')"
   ]
  },
  {
   "cell_type": "code",
   "execution_count": 15,
   "metadata": {},
   "outputs": [
    {
     "ename": "NameError",
     "evalue": "name 'plt' is not defined",
     "output_type": "error",
     "traceback": [
      "\u001b[1;31m---------------------------------------------------------------------------\u001b[0m",
      "\u001b[1;31mNameError\u001b[0m                                 Traceback (most recent call last)",
      "\u001b[1;32mc:\\Users\\User\\OneDrive\\Desktop\\RVB-AN2DL\\ChalllengeANN1_locale.ipynb Cella 3\u001b[0m in \u001b[0;36m<cell line: 6>\u001b[1;34m()\u001b[0m\n\u001b[0;32m      <a href='vscode-notebook-cell:/c%3A/Users/User/OneDrive/Desktop/RVB-AN2DL/ChalllengeANN1_locale.ipynb#W3sZmlsZQ%3D%3D?line=3'>4</a>\u001b[0m num_row \u001b[39m=\u001b[39m \u001b[39m4\u001b[39m\n\u001b[0;32m      <a href='vscode-notebook-cell:/c%3A/Users/User/OneDrive/Desktop/RVB-AN2DL/ChalllengeANN1_locale.ipynb#W3sZmlsZQ%3D%3D?line=4'>5</a>\u001b[0m num_col \u001b[39m=\u001b[39m \u001b[39m2\u001b[39m\n\u001b[1;32m----> <a href='vscode-notebook-cell:/c%3A/Users/User/OneDrive/Desktop/RVB-AN2DL/ChalllengeANN1_locale.ipynb#W3sZmlsZQ%3D%3D?line=5'>6</a>\u001b[0m fig, axes \u001b[39m=\u001b[39m plt\u001b[39m.\u001b[39msubplots(num_row, num_col, figsize\u001b[39m=\u001b[39m(\u001b[39m2\u001b[39m\u001b[39m*\u001b[39mnum_row,\u001b[39m9\u001b[39m\u001b[39m*\u001b[39mnum_col))\n\u001b[0;32m      <a href='vscode-notebook-cell:/c%3A/Users/User/OneDrive/Desktop/RVB-AN2DL/ChalllengeANN1_locale.ipynb#W3sZmlsZQ%3D%3D?line=6'>7</a>\u001b[0m \u001b[39mfor\u001b[39;00m i \u001b[39min\u001b[39;00m \u001b[39mrange\u001b[39m(num_row\u001b[39m*\u001b[39mnum_col):\n\u001b[0;32m      <a href='vscode-notebook-cell:/c%3A/Users/User/OneDrive/Desktop/RVB-AN2DL/ChalllengeANN1_locale.ipynb#W3sZmlsZQ%3D%3D?line=7'>8</a>\u001b[0m   \u001b[39mif\u001b[39;00m i \u001b[39m<\u001b[39m \u001b[39m8\u001b[39m:\n",
      "\u001b[1;31mNameError\u001b[0m: name 'plt' is not defined"
     ]
    }
   ],
   "source": [
    "\n",
    "labels = ['species1', 'species2', 'speceis3','species4','species5','species6','species7','species8']       \n",
    "\n",
    "num_row = 4\n",
    "num_col = 2\n",
    "fig, axes = plt.subplots(num_row, num_col, figsize=(2*num_row,9*num_col))\n",
    "for i in range(num_row*num_col):\n",
    "  if i < 8:\n",
    "    class_imgs = next(os.walk('{}/training/{}/'.format(dataset_dir, labels[i])))[2]\n",
    "    class_img = class_imgs[0]\n",
    "    img = Image.open('{}/training/{}/{}'.format(dataset_dir, labels[i], class_img))\n",
    "    ax = axes[i//num_col, i%num_col]\n",
    "    ax.imshow(np.array(img))\n",
    "    ax.set_title('{}'.format(labels[i]))\n",
    "plt.tight_layout()\n",
    "plt.show()"
   ]
  }
 ],
 "metadata": {
  "kernelspec": {
   "display_name": "Python 3.10.6 ('gpuTensorFlow')",
   "language": "python",
   "name": "python3"
  },
  "language_info": {
   "codemirror_mode": {
    "name": "ipython",
    "version": 3
   },
   "file_extension": ".py",
   "mimetype": "text/x-python",
   "name": "python",
   "nbconvert_exporter": "python",
   "pygments_lexer": "ipython3",
   "version": "3.10.6"
  },
  "orig_nbformat": 4,
  "vscode": {
   "interpreter": {
    "hash": "796e8b6f9bb8ab9af9f683fdba978e8296613d23b8e1292cc65600c4290c26c5"
   }
  }
 },
 "nbformat": 4,
 "nbformat_minor": 2
}
